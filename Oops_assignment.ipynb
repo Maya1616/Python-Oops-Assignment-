{
  "nbformat": 4,
  "nbformat_minor": 0,
  "metadata": {
    "colab": {
      "provenance": [],
      "authorship_tag": "ABX9TyNuX50A7g9Zp6138dX1kK8y",
      "include_colab_link": true
    },
    "kernelspec": {
      "name": "python3",
      "display_name": "Python 3"
    },
    "language_info": {
      "name": "python"
    }
  },
  "cells": [
    {
      "cell_type": "markdown",
      "metadata": {
        "id": "view-in-github",
        "colab_type": "text"
      },
      "source": [
        "<a href=\"https://colab.research.google.com/github/Maya1616/Python-Oops-Assignment-/blob/main/Oops_assignment.ipynb\" target=\"_parent\"><img src=\"https://colab.research.google.com/assets/colab-badge.svg\" alt=\"Open In Colab\"/></a>"
      ]
    },
    {
      "cell_type": "markdown",
      "source": [
        "#Python Oops assignment"
      ],
      "metadata": {
        "id": "qXjEOUCWSYeS"
      }
    },
    {
      "cell_type": "markdown",
      "source": [
        "#1. What is Object-Oriented Programming (OOP)?"
      ],
      "metadata": {
        "id": "zkWXl0jCSy57"
      }
    },
    {
      "cell_type": "markdown",
      "source": [
        "OOP is a programming paradigm that organizes code into objects, which are instances of classes, combining data and methods to model real-world entities."
      ],
      "metadata": {
        "id": "jjFuvO09S1g4"
      }
    },
    {
      "cell_type": "markdown",
      "source": [
        "#2. What is a class in OOP?"
      ],
      "metadata": {
        "id": "gLVGFsfMS5V9"
      }
    },
    {
      "cell_type": "markdown",
      "source": [
        "   A class in OOP is a blueprint for creating objects. It defines attributes (data) and methods (functions) that the objects created from the class can have."
      ],
      "metadata": {
        "id": "h3XRZUASS9vc"
      }
    },
    {
      "cell_type": "markdown",
      "source": [
        "#3. What is an object in OOP?"
      ],
      "metadata": {
        "id": "DEwuL0NQTBvt"
      }
    },
    {
      "cell_type": "markdown",
      "source": [
        "An object is an instance of a class in OOP. It represents a specific entity with the properties and behaviors defined by the class."
      ],
      "metadata": {
        "id": "RKs51RI4TFlL"
      }
    },
    {
      "cell_type": "markdown",
      "source": [
        "#4. What is the difference between abstraction and encapsulation?"
      ],
      "metadata": {
        "id": "-iUOHRLJTKDv"
      }
    },
    {
      "cell_type": "markdown",
      "source": [
        "Abstraction hides complex implementation details and shows only the necessary features, while encapsulation bundles data and methods into a single unit (class) and restricts direct access to some components."
      ],
      "metadata": {
        "id": "jt967SymTRuN"
      }
    },
    {
      "cell_type": "markdown",
      "source": [
        "#5. What are dunder methods in Python?"
      ],
      "metadata": {
        "id": "a6AOpSctTVRw"
      }
    },
    {
      "cell_type": "markdown",
      "source": [
        "Dunder (double underscore) methods in Python are special methods with names like `__init__`, `__str__`, etc., used to define how objects behave with built-in operations (e.g., initialization, string representation)."
      ],
      "metadata": {
        "id": "MTYv6w4kTaZY"
      }
    },
    {
      "cell_type": "markdown",
      "source": [
        "#6. Explain the concept of inheritance in OOP."
      ],
      "metadata": {
        "id": "cGGP83kwTdyS"
      }
    },
    {
      "cell_type": "markdown",
      "source": [
        "Inheritance in OOP allows a class (child) to inherit attributes and methods from another class (parent), promoting code reuse and establishing a hierarchical relationship."
      ],
      "metadata": {
        "id": "ij0SHXPZTilM"
      }
    },
    {
      "cell_type": "markdown",
      "source": [
        "#7. What is polymorphism in OOP?"
      ],
      "metadata": {
        "id": "CqMpztXsTmNy"
      }
    },
    {
      "cell_type": "markdown",
      "source": [
        "Polymorphism in OOP allows different classes to be treated as instances of the same class through a common interface, typically by overriding methods in subclasses"
      ],
      "metadata": {
        "id": "biCYJ_kWTswn"
      }
    },
    {
      "cell_type": "markdown",
      "source": [
        "#8. How is encapsulation achieved in Python?"
      ],
      "metadata": {
        "id": "opFEjc9oTxAm"
      }
    },
    {
      "cell_type": "markdown",
      "source": [
        "Encapsulation in Python is achieved using access modifiers like single underscore (`_`) for protected and double underscore (`__`) for private (via name mangling) to restrict access to attributes and methods."
      ],
      "metadata": {
        "id": "JekvOsGfT2An"
      }
    },
    {
      "cell_type": "markdown",
      "source": [
        "#9. What is a constructor in Python?"
      ],
      "metadata": {
        "id": "HaPWregvT6X_"
      }
    },
    {
      "cell_type": "markdown",
      "source": [
        "   A constructor in Python is the `__init__` method, which is automatically called when an object is created to initialize its attributes."
      ],
      "metadata": {
        "id": "bgfCV26aUA_h"
      }
    },
    {
      "cell_type": "markdown",
      "source": [
        "#10. What are class and static methods in Python?"
      ],
      "metadata": {
        "id": "I7k-RUtdUGGB"
      }
    },
    {
      "cell_type": "markdown",
      "source": [
        "Class methods are defined with `@classmethod` and take `cls` as the first parameter, operating on the class itself. Static methods are defined with `@staticmethod` and don’t take `self` or `cls`, behaving like regular functions within a class."
      ],
      "metadata": {
        "id": "ps1KEUp8UVl5"
      }
    },
    {
      "cell_type": "markdown",
      "source": [
        "#11. What is method overloading in Python?"
      ],
      "metadata": {
        "id": "aEFaKwREUY8E"
      }
    },
    {
      "cell_type": "markdown",
      "source": [
        "Python does not support traditional method overloading (multiple methods with the same name but different parameters). Instead, you can achieve similar functionality using default arguments or variable-length arguments (`*args`, `**kwargs`)."
      ],
      "metadata": {
        "id": "TuS7i0MHUeaW"
      }
    },
    {
      "cell_type": "markdown",
      "source": [
        "#12. What is method overriding in OOP?"
      ],
      "metadata": {
        "id": "yzsNtXmnUhZf"
      }
    },
    {
      "cell_type": "markdown",
      "source": [
        "Method overriding in OOP occurs when a subclass provides a specific implementation of a method that is already defined in its parent class, allowing customization of behavior."
      ],
      "metadata": {
        "id": "GnU0Y7AxUlVF"
      }
    },
    {
      "cell_type": "markdown",
      "source": [
        "#13. What is a property decorator in Python?"
      ],
      "metadata": {
        "id": "nEe0q5-mUn71"
      }
    },
    {
      "cell_type": "markdown",
      "source": [
        "The `@property` decorator in Python allows you to define methods that can be accessed like attributes, providing a way to control access to an object's data (getter, setter, deleter)."
      ],
      "metadata": {
        "id": "7W15PHCcUrTP"
      }
    },
    {
      "cell_type": "markdown",
      "source": [
        "#14. Why is polymorphism important in OOP?"
      ],
      "metadata": {
        "id": "m3Q7wxEiUvpc"
      }
    },
    {
      "cell_type": "markdown",
      "source": [
        "Polymorphism is important in OOP because it enables flexibility and extensibility, allowing different classes to be used interchangeably through a common interface, simplifying code maintenance."
      ],
      "metadata": {
        "id": "GVF9bLCxUzBO"
      }
    },
    {
      "cell_type": "markdown",
      "source": [
        "#15. What is an abstract class in Python?"
      ],
      "metadata": {
        "id": "wl6kMdKbU20w"
      }
    },
    {
      "cell_type": "markdown",
      "source": [
        "An abstract class in Python is a class that cannot be instantiated and is meant to be subclassed. It is created using the `abc` module with the `ABC` class and `@abstractmethod` decorator."
      ],
      "metadata": {
        "id": "zakaCP6JU9gr"
      }
    },
    {
      "cell_type": "markdown",
      "source": [
        "#16. What are the advantages of OOP?"
      ],
      "metadata": {
        "id": "MCEtOLGYVBLQ"
      }
    },
    {
      "cell_type": "markdown",
      "source": [
        "Advantages of OOP include modularity, reusability (via inheritance), flexibility (via polymorphism), maintainability, and better organization of code through encapsulation and abstraction."
      ],
      "metadata": {
        "id": "SJ-PNAWnVEYn"
      }
    },
    {
      "cell_type": "markdown",
      "source": [
        "#17. What is the difference between a class variable and an instance variable?"
      ],
      "metadata": {
        "id": "9rBwO1d2VHOM"
      }
    },
    {
      "cell_type": "markdown",
      "source": [
        "A class variable is shared among all instances of a class and defined outside any method. An instance variable is unique to each object and typically defined in the __init__ method."
      ],
      "metadata": {
        "id": "LyREih7bVf4N"
      }
    },
    {
      "cell_type": "markdown",
      "source": [
        "#18. What is multiple inheritance in Python?"
      ],
      "metadata": {
        "id": "MQSFK5JtVl7k"
      }
    },
    {
      "cell_type": "markdown",
      "source": [
        "Multiple inheritance in Python allows a class to inherit from more than one parent class, combining their attributes and methods. Python resolves method conflicts using the Method Resolution Order (MRO)."
      ],
      "metadata": {
        "id": "YSyTVSxzVt_K"
      }
    },
    {
      "cell_type": "markdown",
      "source": [
        "#19.Explain the purpose of `__str__`, and `__repr__` methods in Python."
      ],
      "metadata": {
        "id": "IeJOeuwSVxLE"
      }
    },
    {
      "cell_type": "markdown",
      "source": [
        "__str__` defines a user-friendly string representation of an object (for `print()`). `__repr__` provides a detailed, unambiguous representation, often for debugging (used by `repr()`)."
      ],
      "metadata": {
        "id": "HZAw0UZkV1b_"
      }
    },
    {
      "cell_type": "markdown",
      "source": [
        "#20. What is the significance of the `super()` function in Python?"
      ],
      "metadata": {
        "id": "tluz-9JuV5Jj"
      }
    },
    {
      "cell_type": "markdown",
      "source": [
        "The `super()` function in Python is used to call a method from a parent class, often in the context of inheritance, to extend or modify the parent’s behavior in a subclass."
      ],
      "metadata": {
        "id": "6uijGxNcV80R"
      }
    },
    {
      "cell_type": "markdown",
      "source": [
        "#21. What is the significance of the `__del__` method in Python?"
      ],
      "metadata": {
        "id": "febsJxX-V_X0"
      }
    },
    {
      "cell_type": "markdown",
      "source": [
        "The `__del__` method in Python is a destructor, called when an object is about to be destroyed (garbage collected), allowing cleanup actions like closing files or releasing resources."
      ],
      "metadata": {
        "id": "e_H0srGAWCH2"
      }
    },
    {
      "cell_type": "markdown",
      "source": [
        "#22. What is the difference between `@staticmethod` and `@classmethod` in Python?"
      ],
      "metadata": {
        "id": "rMzfiujzWEzT"
      }
    },
    {
      "cell_type": "markdown",
      "source": [
        "A `@staticmethod` doesn’t take `self` or `cls` and behaves like a regular function within a class. A `@classmethod` takes `cls` as its first parameter and can access or modify class-level data."
      ],
      "metadata": {
        "id": "YrohTb-zWInA"
      }
    },
    {
      "cell_type": "markdown",
      "source": [
        "#23. How does polymorphism work in Python with inheritance?"
      ],
      "metadata": {
        "id": "URA9WhNXWLcv"
      }
    },
    {
      "cell_type": "markdown",
      "source": [
        "Polymorphism in Python with inheritance works by allowing subclasses to override methods of a parent class, so objects of different subclasses can be treated as instances of the parent class while executing their specific method implementations."
      ],
      "metadata": {
        "id": "NQmx8IRXWPEf"
      }
    },
    {
      "cell_type": "markdown",
      "source": [
        "#24. What is method chaining in Python OOP?"
      ],
      "metadata": {
        "id": "FTTiKVwuWR5I"
      }
    },
    {
      "cell_type": "markdown",
      "source": [
        "Method chaining in Python OOP is a technique where multiple methods are called on the same object in a single line, achieved by having each method return `self`."
      ],
      "metadata": {
        "id": "B9mm0uTVWVlV"
      }
    },
    {
      "cell_type": "markdown",
      "source": [
        "#25. What is the purpose of the `__call__` method in Python?"
      ],
      "metadata": {
        "id": "_palXgtJWZoW"
      }
    },
    {
      "cell_type": "markdown",
      "source": [
        "The `__call__` method in Python makes an object callable like a function. When defined in a class, it allows an instance of the class to be invoked with parentheses, e.g., `obj()`."
      ],
      "metadata": {
        "id": "med0-FtHWd6X"
      }
    },
    {
      "cell_type": "markdown",
      "source": [
        "#Practical Questions"
      ],
      "metadata": {
        "id": "_sEhHbBYWlCU"
      }
    },
    {
      "cell_type": "markdown",
      "source": [
        "#1. Create a parent class Animal with a method speak() that prints a generic message. Create a child class Dog that overrides the speak() method to print \"Bark\"."
      ],
      "metadata": {
        "id": "AJVZglv7WuiP"
      }
    },
    {
      "cell_type": "code",
      "source": [
        "class Animal:\n",
        "    def speak(self):\n",
        "        print(\"Generic animal sound\")\n",
        "\n",
        "class Dog(Animal):\n",
        "    def speak(self):\n",
        "        print(\"Bark\")\n",
        "\n",
        "# Test\n",
        "dog = Dog()\n",
        "dog.speak()  # Output: Bark"
      ],
      "metadata": {
        "colab": {
          "base_uri": "https://localhost:8080/"
        },
        "id": "kIgSIjvdYpgX",
        "outputId": "6f2eed1e-6054-4577-a2c0-216a5f7f8822"
      },
      "execution_count": null,
      "outputs": [
        {
          "output_type": "stream",
          "name": "stdout",
          "text": [
            "Bark\n"
          ]
        }
      ]
    },
    {
      "cell_type": "markdown",
      "source": [
        "#2. Write a program to create an abstract class Shape with a method area(). Derive classes Circle and Rectangle and implement the area() method in both."
      ],
      "metadata": {
        "id": "IzZnEPOVYwM8"
      }
    },
    {
      "cell_type": "code",
      "source": [
        "from abc import ABC, abstractmethod\n",
        "import math\n",
        "\n",
        "class Shape(ABC):\n",
        "    @abstractmethod\n",
        "    def area(self):\n",
        "        pass\n",
        "\n",
        "class Circle(Shape):\n",
        "    def __init__(self, radius):\n",
        "        self.radius = radius\n",
        "\n",
        "    def area(self):\n",
        "        return math.pi * self.radius ** 2\n",
        "\n",
        "class Rectangle(Shape):\n",
        "    def __init__(self, length, width):\n",
        "        self.length = length\n",
        "        self.width = width\n",
        "\n",
        "    def area(self):\n",
        "        return self.length * self.width\n",
        "\n",
        "# Test\n",
        "circle = Circle(5)\n",
        "rectangle = Rectangle(4, 6)\n",
        "print(circle.area())  # Output: ~78.54\n",
        "print(rectangle.area())  # Output: 24"
      ],
      "metadata": {
        "colab": {
          "base_uri": "https://localhost:8080/"
        },
        "id": "5Gh0FLCoY2AH",
        "outputId": "8b7e6465-57d6-4abe-f7af-fa679be33a5f"
      },
      "execution_count": null,
      "outputs": [
        {
          "output_type": "stream",
          "name": "stdout",
          "text": [
            "78.53981633974483\n",
            "24\n"
          ]
        }
      ]
    },
    {
      "cell_type": "markdown",
      "source": [
        "#3. Implement a multi-level inheritance scenario where a class Vehicle has an attribute type. Derive a class Car and further derive a class ElectricCar that adds a battery attribute."
      ],
      "metadata": {
        "id": "Fz1p3rMyY56V"
      }
    },
    {
      "cell_type": "code",
      "source": [
        "class Vehicle:\n",
        "    def __init__(self, type):\n",
        "        self.type = type\n",
        "\n",
        "class Car(Vehicle):\n",
        "    def __init__(self, type, model):\n",
        "        super().__init__(type)\n",
        "        self.model = model\n",
        "\n",
        "class ElectricCar(Car):\n",
        "    def __init__(self, type, model, battery):\n",
        "        super().__init__(type, model)\n",
        "        self.battery = battery\n",
        "\n",
        "# Test\n",
        "electric_car = ElectricCar(\"Sedan\", \"Tesla Model 3\", \"100kWh\")\n",
        "print(electric_car.type, electric_car.model, electric_car.battery)  # Output: Sedan Tesla Model 3 100kWh"
      ],
      "metadata": {
        "colab": {
          "base_uri": "https://localhost:8080/"
        },
        "id": "574-_hNFY9LL",
        "outputId": "6a5e3f7c-ddc0-445e-ada8-1271dfad9488"
      },
      "execution_count": null,
      "outputs": [
        {
          "output_type": "stream",
          "name": "stdout",
          "text": [
            "Sedan Tesla Model 3 100kWh\n"
          ]
        }
      ]
    },
    {
      "cell_type": "markdown",
      "source": [
        "#4. Demonstrate polymorphism by creating a base class Bird with a method fly(). Create two derived classes Sparrow and Penguin that override the fly() method."
      ],
      "metadata": {
        "id": "XIX2-mqgZAeK"
      }
    },
    {
      "cell_type": "code",
      "source": [
        "class Bird:\n",
        "    def fly(self):\n",
        "        print(\"Bird can fly\")\n",
        "\n",
        "class Sparrow(Bird):\n",
        "    def fly(self):\n",
        "        print(\"Sparrow flies high\")\n",
        "\n",
        "class Penguin(Bird):\n",
        "    def fly(self):\n",
        "        print(\"Penguin cannot fly\")\n",
        "\n",
        "# Test\n",
        "sparrow = Sparrow()\n",
        "penguin = Penguin()\n",
        "sparrow.fly()  # Output: Sparrow flies high\n",
        "penguin.fly()  # Output: Penguin cannot fly"
      ],
      "metadata": {
        "colab": {
          "base_uri": "https://localhost:8080/"
        },
        "id": "frF20c-jZEuZ",
        "outputId": "1353554e-c716-4602-ac37-fd2ca464b318"
      },
      "execution_count": null,
      "outputs": [
        {
          "output_type": "stream",
          "name": "stdout",
          "text": [
            "Sparrow flies high\n",
            "Penguin cannot fly\n"
          ]
        }
      ]
    },
    {
      "cell_type": "markdown",
      "source": [
        "#5. Write a program to demonstrate encapsulation by creating a class BankAccount with private attributes balance and methods to deposit(), withdraw(), and check_balance()."
      ],
      "metadata": {
        "id": "5AjgURPiZG3H"
      }
    },
    {
      "cell_type": "code",
      "source": [
        "class BankAccount:\n",
        "    def __init__(self, balance):\n",
        "        self.__balance = balance  # Private attribute\n",
        "\n",
        "    def deposit(self, amount):\n",
        "        if amount > 0:\n",
        "            self.__balance += amount\n",
        "\n",
        "    def withdraw(self, amount):\n",
        "        if 0 < amount <= self.__balance:\n",
        "            self.__balance -= amount\n",
        "\n",
        "    def check_balance(self):\n",
        "        return self.__balance\n",
        "\n",
        "# Test\n",
        "account = BankAccount(1000)\n",
        "account.deposit(500)\n",
        "account.withdraw(200)\n",
        "print(account.check_balance())  # Output: 1300"
      ],
      "metadata": {
        "colab": {
          "base_uri": "https://localhost:8080/"
        },
        "id": "ac5mdRdLZJqm",
        "outputId": "9205cfb8-77bd-480a-d385-b4d89a48158a"
      },
      "execution_count": null,
      "outputs": [
        {
          "output_type": "stream",
          "name": "stdout",
          "text": [
            "1300\n"
          ]
        }
      ]
    },
    {
      "cell_type": "markdown",
      "source": [
        "#6. Demonstrate runtime polymorphism using a method play() in a base class Instrument. Derive classes Guitar and Piano that implement their own version of play()."
      ],
      "metadata": {
        "id": "2DjOcMuAZLyp"
      }
    },
    {
      "cell_type": "code",
      "source": [
        "class Instrument:\n",
        "    def play(self):\n",
        "        print(\"Instrument plays\")\n",
        "\n",
        "class Guitar(Instrument):\n",
        "    def play(self):\n",
        "        print(\"Guitar strums\")\n",
        "\n",
        "class Piano(Instrument):\n",
        "    def play(self):\n",
        "        print(\"Piano keys play\")\n",
        "\n",
        "# Test\n",
        "guitar = Guitar()\n",
        "piano = Piano()\n",
        "guitar.play()  # Output: Guitar strums\n",
        "piano.play()  # Output: Piano keys play"
      ],
      "metadata": {
        "colab": {
          "base_uri": "https://localhost:8080/"
        },
        "id": "hxXvQt0GZQb2",
        "outputId": "7fb780ab-e4b3-4cc8-a736-96b6e52c43ff"
      },
      "execution_count": null,
      "outputs": [
        {
          "output_type": "stream",
          "name": "stdout",
          "text": [
            "Guitar strums\n",
            "Piano keys play\n"
          ]
        }
      ]
    },
    {
      "cell_type": "markdown",
      "source": [
        "#7. Create a class MathOperations with a class method add_numbers() to add two numbers and a static method subtract_numbers() to subtract two numbers."
      ],
      "metadata": {
        "id": "uaU6XzAIZSjH"
      }
    },
    {
      "cell_type": "code",
      "source": [
        "class MathOperations:\n",
        "    @classmethod\n",
        "    def add_numbers(cls, a, b):\n",
        "        return a + b\n",
        "\n",
        "    @staticmethod\n",
        "    def subtract_numbers(a, b):\n",
        "        return a - b\n",
        "\n",
        "# Test\n",
        "print(MathOperations.add_numbers(5, 3))  # Output: 8\n",
        "print(MathOperations.subtract_numbers(5, 3))  # Output: 2"
      ],
      "metadata": {
        "colab": {
          "base_uri": "https://localhost:8080/"
        },
        "id": "lZ-EvDbSZWEV",
        "outputId": "a4baec77-0cd3-4dbe-9823-eebd8d33bf59"
      },
      "execution_count": null,
      "outputs": [
        {
          "output_type": "stream",
          "name": "stdout",
          "text": [
            "8\n",
            "2\n"
          ]
        }
      ]
    },
    {
      "cell_type": "markdown",
      "source": [
        "#8. Implement a class Person with a class method to count the total number of persons created."
      ],
      "metadata": {
        "id": "NoJapt7XZYvE"
      }
    },
    {
      "cell_type": "code",
      "source": [
        "class Person:\n",
        "    count = 0  # Class attribute to track number of persons\n",
        "\n",
        "    def __init__(self, name):\n",
        "        self.name = name\n",
        "        Person.count += 1\n",
        "\n",
        "    @classmethod\n",
        "    def get_count(cls):\n",
        "        return cls.count\n",
        "\n",
        "# Test\n",
        "p1 = Person(\"Alice\")\n",
        "p2 = Person(\"Bob\")\n",
        "print(Person.get_count())  # Output: 2"
      ],
      "metadata": {
        "colab": {
          "base_uri": "https://localhost:8080/"
        },
        "id": "DZdcDVDJZbzB",
        "outputId": "fd6c30e8-205c-4b21-a709-d21d8c8c222a"
      },
      "execution_count": null,
      "outputs": [
        {
          "output_type": "stream",
          "name": "stdout",
          "text": [
            "2\n"
          ]
        }
      ]
    },
    {
      "cell_type": "markdown",
      "source": [
        "#9. Write a class Fraction with attributes numerator and denominator. Override the str method to display the fraction as \"numerator/denominator\"."
      ],
      "metadata": {
        "id": "niheVLtBZeIl"
      }
    },
    {
      "cell_type": "code",
      "source": [
        "class Fraction:\n",
        "    def __init__(self, numerator, denominator):\n",
        "        self.numerator = numerator\n",
        "        self.denominator = denominator\n",
        "\n",
        "    def __str__(self):\n",
        "        return f\"{self.numerator}/{self.denominator}\"\n",
        "\n",
        "# Test\n",
        "fraction = Fraction(3, 4)\n",
        "print(fraction)  # Output: 3/4"
      ],
      "metadata": {
        "colab": {
          "base_uri": "https://localhost:8080/"
        },
        "id": "wvWFiyPaZgyT",
        "outputId": "43499879-a0aa-44e4-bb71-63f32d730bfa"
      },
      "execution_count": null,
      "outputs": [
        {
          "output_type": "stream",
          "name": "stdout",
          "text": [
            "3/4\n"
          ]
        }
      ]
    },
    {
      "cell_type": "markdown",
      "source": [
        "#10. Demonstrate operator overloading by creating a class Vector and overriding the add method to add two vectors."
      ],
      "metadata": {
        "id": "R7Kvv_q2ZjoK"
      }
    },
    {
      "cell_type": "code",
      "source": [
        "class Vector:\n",
        "    def __init__(self, x, y):\n",
        "        self.x = x\n",
        "        self.y = y\n",
        "\n",
        "    def __add__(self, other):\n",
        "        return Vector(self.x + other.x, self.y + other.y)\n",
        "\n",
        "    def __str__(self):\n",
        "        return f\"Vector({self.x}, {self.y})\"\n",
        "\n",
        "# Test\n",
        "v1 = Vector(2, 3)\n",
        "v2 = Vector(4, 5)\n",
        "v3 = v1 + v2\n",
        "print(v3)  # Output: Vector(6, 8)"
      ],
      "metadata": {
        "colab": {
          "base_uri": "https://localhost:8080/"
        },
        "id": "5sjtsBU4ZnpB",
        "outputId": "2ee1dde1-071f-467b-fada-2095888740ae"
      },
      "execution_count": null,
      "outputs": [
        {
          "output_type": "stream",
          "name": "stdout",
          "text": [
            "Vector(6, 8)\n"
          ]
        }
      ]
    },
    {
      "cell_type": "markdown",
      "source": [
        "#11. Create a class Person with attributes name and age. Add a method greet() that prints \"Hello, my name is [name] and I am [age] years old\"."
      ],
      "metadata": {
        "id": "j6l7gfnOZtAk"
      }
    },
    {
      "cell_type": "code",
      "source": [
        "class Person:\n",
        "    def __init__(self, name, age):\n",
        "        self.name = name\n",
        "        self.age = age\n",
        "\n",
        "    def greet(self):\n",
        "        print(f\"Hello, my name is {self.name} and I am {self.age} years old\")\n",
        "\n",
        "# Test\n",
        "person = Person(\"Alice\", 30)\n",
        "person.greet()  # Output: Hello, my name is Alice and I am 30 years old"
      ],
      "metadata": {
        "colab": {
          "base_uri": "https://localhost:8080/"
        },
        "id": "ji5QgUleZwdz",
        "outputId": "5721204c-32e5-439d-b67e-57f1bf3738fc"
      },
      "execution_count": null,
      "outputs": [
        {
          "output_type": "stream",
          "name": "stdout",
          "text": [
            "Hello, my name is Alice and I am 30 years old\n"
          ]
        }
      ]
    },
    {
      "cell_type": "markdown",
      "source": [
        "#12. Implement a class Student with attributes name and grades. Create a method average_grade() to compute the average of the grades."
      ],
      "metadata": {
        "id": "uuJcUiPGZyds"
      }
    },
    {
      "cell_type": "code",
      "source": [
        "class Student:\n",
        "    def __init__(self, name, grades):\n",
        "        self.name = name\n",
        "        self.grades = grades\n",
        "\n",
        "    def average_grade(self):\n",
        "        return sum(self.grades) / len(self.grades) if self.grades else 0\n",
        "\n",
        "# Test\n",
        "student = Student(\"Alice\", [85, 90, 95])\n",
        "print(student.average_grade())  # Output: 90.0"
      ],
      "metadata": {
        "colab": {
          "base_uri": "https://localhost:8080/"
        },
        "id": "1kXANWAgZ3j5",
        "outputId": "e620cf1f-289f-4292-c616-a3a52cd82c90"
      },
      "execution_count": null,
      "outputs": [
        {
          "output_type": "stream",
          "name": "stdout",
          "text": [
            "90.0\n"
          ]
        }
      ]
    },
    {
      "cell_type": "markdown",
      "source": [
        "#13. Create a class Rectangle with methods set_dimensions() to set the dimensions and get_area() to calculate the area."
      ],
      "metadata": {
        "id": "sv3j5OSeZ517"
      }
    },
    {
      "cell_type": "code",
      "source": [
        "class Rectangle:\n",
        "    def __init__(self):\n",
        "        self.length = 0\n",
        "        self.width = 0\n",
        "\n",
        "    def set_dimensions(self, length, width):\n",
        "        self.length = length\n",
        "        self.width = width\n",
        "\n",
        "    def get_area(self):\n",
        "        return self.length * self.width\n",
        "\n",
        "# Test\n",
        "rect = Rectangle()\n",
        "rect.set_dimensions(4, 5)\n",
        "print(rect.get_area())  # Output: 20"
      ],
      "metadata": {
        "colab": {
          "base_uri": "https://localhost:8080/"
        },
        "id": "EZE4B2CDZ91y",
        "outputId": "7135002c-0266-4003-a4b7-2dc746459ba6"
      },
      "execution_count": null,
      "outputs": [
        {
          "output_type": "stream",
          "name": "stdout",
          "text": [
            "20\n"
          ]
        }
      ]
    },
    {
      "cell_type": "markdown",
      "source": [
        "#14. Create a class Employee with a method calculate_salary() that computes the salary on hours worked and hourly rate. Create a derived class Manager that adds a bonus to the salary."
      ],
      "metadata": {
        "id": "OeoKNPlfaAYk"
      }
    },
    {
      "cell_type": "code",
      "source": [
        "class Employee:\n",
        "    def __init__(self, hours, rate):\n",
        "        self.hours = hours\n",
        "        self.rate = rate\n",
        "\n",
        "    def calculate_salary(self):\n",
        "        return self.hours * self.rate\n",
        "\n",
        "class Manager(Employee):\n",
        "    def __init__(self, hours, rate, bonus):\n",
        "        super().__init__(hours, rate)\n",
        "        self.bonus = bonus\n",
        "\n",
        "    def calculate_salary(self):\n",
        "        return super().calculate_salary() + self.bonus\n",
        "\n",
        "# Test\n",
        "emp = Employee(40, 20)\n",
        "mgr = Manager(40, 20, 500)\n",
        "print(emp.calculate_salary())  # Output: 800\n",
        "print(mgr.calculate_salary())  # Output: 1300"
      ],
      "metadata": {
        "colab": {
          "base_uri": "https://localhost:8080/"
        },
        "id": "V4N9VEE5aD43",
        "outputId": "b97b8fc5-6865-499b-c735-dc48a872189e"
      },
      "execution_count": null,
      "outputs": [
        {
          "output_type": "stream",
          "name": "stdout",
          "text": [
            "800\n",
            "1300\n"
          ]
        }
      ]
    },
    {
      "cell_type": "markdown",
      "source": [
        "#15. Create a class Product with attributes name, price, and quantity. Implement a method total_price() that calculates the total price of the product."
      ],
      "metadata": {
        "id": "BUS_px7laGdh"
      }
    },
    {
      "cell_type": "code",
      "source": [
        "class Product:\n",
        "    def __init__(self, name, price, quantity):\n",
        "        self.name = name\n",
        "        self.price = price\n",
        "        self.quantity = quantity\n",
        "\n",
        "    def total_price(self):\n",
        "        return self.price * self.quantity\n",
        "\n",
        "# Test\n",
        "product = Product(\"Laptop\", 1000, 2)\n",
        "print(product.total_price())  # Output: 2000"
      ],
      "metadata": {
        "colab": {
          "base_uri": "https://localhost:8080/"
        },
        "id": "v14VzjgfaKq1",
        "outputId": "3a24bd53-f697-4602-be66-7cbc243686d1"
      },
      "execution_count": null,
      "outputs": [
        {
          "output_type": "stream",
          "name": "stdout",
          "text": [
            "2000\n"
          ]
        }
      ]
    },
    {
      "cell_type": "markdown",
      "source": [
        "#16. Create a class Animal with an abstract method sound(). Create two derived classes Cow and Sheep that implement the sound() method."
      ],
      "metadata": {
        "id": "Il_uUbcHaPmS"
      }
    },
    {
      "cell_type": "code",
      "source": [
        "from abc import ABC, abstractmethod\n",
        "\n",
        "class Animal(ABC):\n",
        "    @abstractmethod\n",
        "    def sound(self):\n",
        "        pass\n",
        "\n",
        "class Cow(Animal):\n",
        "    def sound(self):\n",
        "        print(\"Moo\")\n",
        "\n",
        "class Sheep(Animal):\n",
        "    def sound(self):\n",
        "        print(\"Baa\")\n",
        "\n",
        "# Test\n",
        "cow = Cow()\n",
        "sheep = Sheep()\n",
        "cow.sound()  # Output: Moo\n",
        "sheep.sound()  # Output: Baa"
      ],
      "metadata": {
        "colab": {
          "base_uri": "https://localhost:8080/"
        },
        "id": "f6SQ7B_xaXnK",
        "outputId": "8ce91753-2396-441e-8261-bc88e303e98f"
      },
      "execution_count": null,
      "outputs": [
        {
          "output_type": "stream",
          "name": "stdout",
          "text": [
            "Moo\n",
            "Baa\n"
          ]
        }
      ]
    },
    {
      "cell_type": "markdown",
      "source": [
        "#17. Create a class Book with attributes title, author, and year_published. Add a method get_book_info() that returns a formatted string with the book details."
      ],
      "metadata": {
        "id": "zJG426MmaaYs"
      }
    },
    {
      "cell_type": "code",
      "source": [
        "class Book:\n",
        "    def __init__(self, title, author, year_published):\n",
        "        self.title = title\n",
        "        self.author = author\n",
        "        self.year_published = year_published\n",
        "\n",
        "    def get_book_info(self):\n",
        "        return f\"Title: {self.title}, Author: {self.author}, Year: {self.year_published}\"\n",
        "\n",
        "# Test\n",
        "book = Book(\"Python 101\", \"John Doe\", 2020)\n",
        "print(book.get_book_info())  # Output: Title: Python 101, Author: John Doe, Year: 2020"
      ],
      "metadata": {
        "colab": {
          "base_uri": "https://localhost:8080/"
        },
        "id": "-ioMV9fPadXi",
        "outputId": "aa155e4c-6caa-4f9f-98db-459702a5d76f"
      },
      "execution_count": null,
      "outputs": [
        {
          "output_type": "stream",
          "name": "stdout",
          "text": [
            "Title: Python 101, Author: John Doe, Year: 2020\n"
          ]
        }
      ]
    },
    {
      "cell_type": "markdown",
      "source": [
        "#18. Create a class House with attributes address and price. Create a derived class Mansion that adds an attribute number_of_rooms."
      ],
      "metadata": {
        "id": "gEqx14vlafwF"
      }
    },
    {
      "cell_type": "code",
      "source": [
        "class House:\n",
        "    def __init__(self, address, price):\n",
        "        self.address = address\n",
        "        self.price = price\n",
        "\n",
        "class Mansion(House):\n",
        "    def __init__(self, address, price, number_of_rooms):\n",
        "        super().__init__(address, price)\n",
        "        self.number_of_rooms = number_of_rooms\n",
        "\n",
        "# Test\n",
        "mansion = Mansion(\"123 Main St\", 500000, 10)\n",
        "print(mansion.address, mansion.price, mansion.number_of_rooms)  # Output: 123 Main St 500000 10"
      ],
      "metadata": {
        "id": "6sMhPAnsakTG",
        "outputId": "0ab91365-fb9c-41e2-ca82-4908ef38e83e",
        "colab": {
          "base_uri": "https://localhost:8080/"
        }
      },
      "execution_count": null,
      "outputs": [
        {
          "output_type": "stream",
          "name": "stdout",
          "text": [
            "123 Main St 500000 10\n"
          ]
        }
      ]
    }
  ]
}